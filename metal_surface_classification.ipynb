{
 "cells": [
  {
   "cell_type": "code",
   "execution_count": null,
   "metadata": {},
   "outputs": [],
   "source": [
    "import torch \n",
    "import torchvision\n",
    "import matplotlib.pyplot as plt \n",
    "import os\n",
    "\n",
    "from pathlib import Path\n",
    "from torch import nn \n",
    "from torchvision import transforms\n",
    "from PIL import Image\n",
    "try:\n",
    "  from torchinfo import summary \n",
    "except ModuleNotFoundError as e:\n",
    "  print(f\"{e}, downloading..\")\n",
    "  !pip install torchinfo\n",
    "  from torchinfo import summary "
   ]
  },
  {
   "cell_type": "code",
   "execution_count": null,
   "metadata": {},
   "outputs": [],
   "source": [
    "from zipfile import ZipFile\n",
    "with ZipFile(\"./Metal_Surface_Defects_Dataset.zip\", \"r\") as z:\n",
    "  z.extractall(path=\"./Metal_Surface_Defects\")\n"
   ]
  },
  {
   "cell_type": "code",
   "execution_count": null,
   "metadata": {},
   "outputs": [],
   "source": [
    "from torchvision.datasets import ImageFolder\n",
    "\n",
    "train_path = Path(\"/content/Metal_Surface_Defects/Metal_Surface_Defects_Dataset/NEU Metal Surface Defects Data/train\")\n",
    "test_path = Path(\"/content/Metal_Surface_Defects/Metal_Surface_Defects_Dataset/NEU Metal Surface Defects Data/test\")\n",
    "\n",
    "train_path, test_path"
   ]
  },
  {
   "cell_type": "code",
   "execution_count": null,
   "metadata": {},
   "outputs": [],
   "source": [
    "from modules import data_setup, model\n",
    "BATCH_SIZE = 128\n",
    "NUM_WORKERS = os.cpu_count()\n",
    "train_dataloader, test_dataloader, class_names = data_setup.create_dataloaders(train_path=train_path,\n",
    "                                                                        test_path=test_path,\n",
    "                                                                        train_transform=None,\n",
    "                                                                        test_transform=None,\n",
    "                                                                        batch_size=BATCH_SIZE,\n",
    "                                                                        num_workers=NUM_WORKERS)\n",
    "metal_defects = model.create_model(in_channels=3,\n",
    "                                   out_channels=len(class_names),\n",
    "                                   hidden_features=16,\n",
    "                                   device=\"cuda\")"
   ]
  },
  {
   "cell_type": "code",
   "execution_count": null,
   "metadata": {},
   "outputs": [],
   "source": [
    "loss_fn = nn.CrossEntropyLoss(label_smoothing=0.1)\n",
    "optimizer = torch.optim.Adam(metal_defects.parameters(), lr=1e-3)\n",
    "EPOCHS = 20"
   ]
  },
  {
   "cell_type": "code",
   "execution_count": null,
   "metadata": {},
   "outputs": [],
   "source": [
    "results = {\"train_loss\": [],\n",
    "          \"train_acc\": [],\n",
    "          \"test_loss\": [],\n",
    "          \"test_acc\": []}\n",
    "for epoch in range(EPOCHS):\n",
    "  metal_defects.train()\n",
    "  train_loss, train_acc = 0, 0\n",
    "  for batch, (X, y) in enumerate(train_dataloader):\n",
    "    X, y = X.to(device), y.to(device)\n",
    "    y_preds = metal_defects(X)\n",
    "    loss=loss_fn(y_preds, y)\n",
    "    train_loss += loss.item()\n",
    "    optimizer.zero_grad()\n",
    "    loss.backward()\n",
    "    optimizer.step()\n",
    "\n",
    "    y_pred_class = torch.argmax(torch.softmax(y_preds, dim=1), dim=1)\n",
    "    train_acc += (y_pred_class==y).sum().item()/len(y_preds)\n",
    "  train_acc = train_acc / len(train_dataloader)\n",
    "  train_loss = train_loss / len(train_dataloader)\n",
    "\n",
    "  metal_defects.eval()\n",
    "  test_loss, test_acc = 0, 0\n",
    "  with torch.inference_mode():\n",
    "    for batch, (X, y) in enumerate(test_dataloader):\n",
    "      X, y = X.to(device), y.to(device)\n",
    "      test_preds = metal_defects(X)\n",
    "      test_loss = loss_fn(test_preds, y)\n",
    "      test_loss += test_loss.item()\n",
    "\n",
    "      test_pred_labels = torch.argmax(test_preds, dim=1)\n",
    "      test_acc = (test_pred_labels==y).sum().item()/len(test_preds)\n",
    "    test_loss = test_loss / len(test_dataloader)\n",
    "    test_acc = test_acc / len(test_dataloader)\n",
    "  print(f\"Epoch: {epoch+1} | Train Loss: {train_loss:.3f} | Test Loss: {test_loss:.3f} | Train Acc: {train_acc:.3f} | Test Acc: {test_acc:.3f}\")\n",
    "  results[\"train_loss\"].append(train_loss)\n",
    "  results[\"train_acc\"].append(train_acc)\n",
    "  results[\"test_loss\"].append(test_loss)\n",
    "  results[\"test_acc\"].append(test_acc)\n"
   ]
  }
 ],
 "metadata": {
  "kernelspec": {
   "display_name": "Python 3",
   "language": "python",
   "name": "python3"
  },
  "language_info": {
   "name": "python",
   "version": "3.9.5"
  }
 },
 "nbformat": 4,
 "nbformat_minor": 2
}
